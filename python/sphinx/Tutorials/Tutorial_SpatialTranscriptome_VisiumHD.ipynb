{
 "cells": [
  {
   "cell_type": "markdown",
   "id": "burning-vessel",
   "metadata": {},
   "source": [
    "# Spatial transcriptome (VisiumHD)"
   ]
  },
  {
   "cell_type": "markdown",
   "id": "going-calculator",
   "metadata": {},
   "source": [
    "We demonstrate a noise reduction with RECODE for spatial transcriptome data (FISH based). We use spatial transcriptome data of 10X Visium HD, Visium HD Spatial Gene Expression Library, Mouse Embryo (FFPE). The dataset is available from [10X datasets](https://www.10xgenomics.com/datasets). "
   ]
  },
  {
   "cell_type": "markdown",
   "id": "original-singing",
   "metadata": {},
   "source": [
    "We use [scanpy](https://scanpy.readthedocs.io/en/stable/) to read/write data. Import numpy and scanpy in addlition to screcode."
   ]
  },
  {
   "cell_type": "code",
   "execution_count": 20,
   "id": "acceptable-spray",
   "metadata": {},
   "outputs": [],
   "source": [
    "import scanpy as sc\n",
    "import numpy as np\n",
    "import screcode\n",
    "import warnings\n",
    "warnings.simplefilter('ignore')\n",
    "import matplotlib.pyplot as plt\n",
    "import pandas as pd"
   ]
  },
  {
   "cell_type": "markdown",
   "id": "checked-dress",
   "metadata": {},
   "source": [
    "Read in the count matrix into an [AnnData](https://anndata.readthedocs.io/en/latest/) object. "
   ]
  },
  {
   "cell_type": "code",
   "execution_count": 21,
   "id": "earlier-surprise",
   "metadata": {},
   "outputs": [
    {
     "data": {
      "text/plain": [
       "AnnData object with n_obs × n_vars = 343983 × 19040\n",
       "    obs: 'in_tissue', 'array_row', 'array_col', 'pxl_row_in_fullres', 'pxl_col_in_fullres'\n",
       "    var: 'gene_ids', 'feature_types', 'genome'\n",
       "    layers: 'Raw'"
      ]
     },
     "execution_count": 21,
     "metadata": {},
     "output_type": "execute_result"
    }
   ],
   "source": [
    "INPUT_DIR = 'data/Visium_HD_Mouse_Embryo/Visium_HD_Mouse_Embryo_binned_outputs/binned_outputs/square_002um'\n",
    "INPUT_FILE = \"filtered_feature_bc_matrix.h5\"\n",
    "Raw_key = \"count\"\n",
    "adata = sc.read_10x_h5(\"%s/%s\" % (INPUT_DIR,INPUT_FILE))\n",
    "df_spatial = pd.read_parquet(\"%s/spatial/tissue_positions.parquet\" % (INPUT_DIR))\n",
    "adata.obs = pd.concat([adata.obs,df_spatial.set_index(\"barcode\").loc[adata.obs.index]],axis=1)\n",
    "adata.var_names_make_unique()\n",
    "adata = adata[:,np.sum(adata.X,axis=0)>0]\n",
    "adata = adata[np.sum(adata.X,axis=1)>0]\n",
    "adata.layers[\"Raw\"] = adata.X.toarray()\n",
    "adata"
   ]
  },
  {
   "cell_type": "markdown",
   "id": "motivated-warning",
   "metadata": {},
   "source": [
    "## Apply RECODE\n",
    "Apply RECODE to the count matrix (without using spatial coordinates)."
   ]
  },
  {
   "cell_type": "code",
   "execution_count": 22,
   "id": "swiss-header",
   "metadata": {},
   "outputs": [
    {
     "name": "stdout",
     "output_type": "stream",
     "text": [
      "start RECODE for scRNA-seq data\n"
     ]
    },
    {
     "ename": "MemoryError",
     "evalue": "Unable to allocate 21.5 GiB for an array with shape (343983, 16748) and data type float32",
     "output_type": "error",
     "traceback": [
      "\u001b[1;31m---------------------------------------------------------------------------\u001b[0m",
      "\u001b[1;31mMemoryError\u001b[0m                               Traceback (most recent call last)",
      "Cell \u001b[1;32mIn[22], line 3\u001b[0m\n\u001b[0;32m      1\u001b[0m \u001b[38;5;28;01mimport\u001b[39;00m \u001b[38;5;21;01mscrecode\u001b[39;00m\n\u001b[0;32m      2\u001b[0m recode \u001b[38;5;241m=\u001b[39m screcode\u001b[38;5;241m.\u001b[39mRECODE(downsampling_rate\u001b[38;5;241m=\u001b[39m\u001b[38;5;241m0.01\u001b[39m)\n\u001b[1;32m----> 3\u001b[0m adata \u001b[38;5;241m=\u001b[39m \u001b[43mrecode\u001b[49m\u001b[38;5;241;43m.\u001b[39;49m\u001b[43mfit_transform\u001b[49m\u001b[43m(\u001b[49m\u001b[43madata\u001b[49m\u001b[43m)\u001b[49m\n",
      "File \u001b[1;32mf:\\GitHub\\RECODE\\python\\sphinx\\Tutorials\\screcode.py:408\u001b[0m, in \u001b[0;36mRECODE.fit_transform\u001b[1;34m(self, X)\u001b[0m\n\u001b[0;32m    405\u001b[0m         \u001b[38;5;28mprint\u001b[39m(\u001b[38;5;124m\"\u001b[39m\u001b[38;5;124mstart RECODE for \u001b[39m\u001b[38;5;132;01m%s\u001b[39;00m\u001b[38;5;124m data\u001b[39m\u001b[38;5;124m\"\u001b[39m \u001b[38;5;241m%\u001b[39m \u001b[38;5;28mself\u001b[39m\u001b[38;5;241m.\u001b[39mseq_target)\n\u001b[0;32m    407\u001b[0m \u001b[38;5;28mself\u001b[39m\u001b[38;5;241m.\u001b[39mfit(X)\n\u001b[1;32m--> 408\u001b[0m X_RECODE \u001b[38;5;241m=\u001b[39m \u001b[38;5;28;43mself\u001b[39;49m\u001b[38;5;241;43m.\u001b[39;49m\u001b[43mtransform\u001b[49m\u001b[43m(\u001b[49m\u001b[43mX\u001b[49m\u001b[43m)\u001b[49m\n\u001b[0;32m    409\u001b[0m end_time \u001b[38;5;241m=\u001b[39m datetime\u001b[38;5;241m.\u001b[39mdatetime\u001b[38;5;241m.\u001b[39mnow()\n\u001b[0;32m    410\u001b[0m elapsed_time \u001b[38;5;241m=\u001b[39m end_time \u001b[38;5;241m-\u001b[39m start_time\n",
      "File \u001b[1;32mf:\\GitHub\\RECODE\\python\\sphinx\\Tutorials\\screcode.py:331\u001b[0m, in \u001b[0;36mRECODE.transform\u001b[1;34m(self, X)\u001b[0m\n\u001b[0;32m    327\u001b[0m     \u001b[38;5;28;01mraise\u001b[39;00m \u001b[38;5;167;01mTypeError\u001b[39;00m(\n\u001b[0;32m    328\u001b[0m         \u001b[38;5;124m\"\u001b[39m\u001b[38;5;124mRECODE requires the same dimension as that of fitted data.\u001b[39m\u001b[38;5;124m\"\u001b[39m\n\u001b[0;32m    329\u001b[0m     )\n\u001b[0;32m    330\u001b[0m X_ \u001b[38;5;241m=\u001b[39m X_mat[:, \u001b[38;5;28mself\u001b[39m\u001b[38;5;241m.\u001b[39midx_nonsilent]\n\u001b[1;32m--> 331\u001b[0m X_norm \u001b[38;5;241m=\u001b[39m \u001b[38;5;28;43mself\u001b[39;49m\u001b[38;5;241;43m.\u001b[39;49m\u001b[43m_noise_variance_stabilizing_normalization\u001b[49m\u001b[43m(\u001b[49m\u001b[43mX_\u001b[49m\u001b[43m)\u001b[49m\n\u001b[0;32m    332\u001b[0m X_norm_RECODE_, X_ess, _, _ \u001b[38;5;241m=\u001b[39m \u001b[38;5;28mself\u001b[39m\u001b[38;5;241m.\u001b[39mrecode_\u001b[38;5;241m.\u001b[39mtransform(X_norm,return_ess\u001b[38;5;241m=\u001b[39m\u001b[38;5;28;01mTrue\u001b[39;00m)\n\u001b[0;32m    333\u001b[0m X_norm_RECODE \u001b[38;5;241m=\u001b[39m np\u001b[38;5;241m.\u001b[39mzeros(X_mat\u001b[38;5;241m.\u001b[39mshape, dtype\u001b[38;5;241m=\u001b[39m\u001b[38;5;28mfloat\u001b[39m)\n",
      "File \u001b[1;32mf:\\GitHub\\RECODE\\python\\sphinx\\Tutorials\\screcode.py:186\u001b[0m, in \u001b[0;36mRECODE._noise_variance_stabilizing_normalization\u001b[1;34m(self, X)\u001b[0m\n\u001b[0;32m    184\u001b[0m X_scaled \u001b[38;5;241m=\u001b[39m X_ \u001b[38;5;241m/\u001b[39m \u001b[38;5;28mself\u001b[39m\u001b[38;5;241m.\u001b[39mX_nUMI[:,np\u001b[38;5;241m.\u001b[39mnewaxis]\n\u001b[0;32m    185\u001b[0m \u001b[38;5;66;03m## normalization\u001b[39;00m\n\u001b[1;32m--> 186\u001b[0m X_norm \u001b[38;5;241m=\u001b[39m (\u001b[43mX_scaled\u001b[49m\u001b[43m \u001b[49m\u001b[38;5;241;43m-\u001b[39;49m\u001b[43m \u001b[49m\u001b[38;5;28;43mself\u001b[39;49m\u001b[38;5;241;43m.\u001b[39;49m\u001b[43mX_scaled_mean\u001b[49m) \u001b[38;5;241m/\u001b[39m np\u001b[38;5;241m.\u001b[39msqrt(\u001b[38;5;28mself\u001b[39m\u001b[38;5;241m.\u001b[39mnoise_var)\n\u001b[0;32m    188\u001b[0m \u001b[38;5;28;01mif\u001b[39;00m d \u001b[38;5;241m==\u001b[39m \u001b[38;5;28mself\u001b[39m\u001b[38;5;241m.\u001b[39md_all:\n\u001b[0;32m    189\u001b[0m     X_norm_ \u001b[38;5;241m=\u001b[39m np\u001b[38;5;241m.\u001b[39mzeros(X\u001b[38;5;241m.\u001b[39mshape, dtype\u001b[38;5;241m=\u001b[39m\u001b[38;5;28mfloat\u001b[39m)\n",
      "\u001b[1;31mMemoryError\u001b[0m: Unable to allocate 21.5 GiB for an array with shape (343983, 16748) and data type float32"
     ]
    }
   ],
   "source": [
    "import screcode\n",
    "recode = screcode.RECODE(downsampling_rate=0.01)\n",
    "adata = recode.fit_transform(adata)"
   ]
  },
  {
   "cell_type": "markdown",
   "id": "subtle-singles",
   "metadata": {},
   "source": [
    "### Performance check"
   ]
  },
  {
   "cell_type": "code",
   "execution_count": null,
   "id": "demonstrated-learning",
   "metadata": {},
   "outputs": [],
   "source": [
    "recode.report()"
   ]
  },
  {
   "cell_type": "markdown",
   "id": "fa416357",
   "metadata": {},
   "source": [
    "Log normalizaation"
   ]
  },
  {
   "cell_type": "code",
   "execution_count": null,
   "id": "7e05c37e",
   "metadata": {},
   "outputs": [],
   "source": [
    "target_sum = np.median(np.sum(adata.layers[\"RECODE\"],axis=1))\n",
    "adata = recode.lognormalize(adata,target_sum=target_sum)\n",
    "print(np.median(np.sum(adata.layers[\"RECODE\"],axis=1)))"
   ]
  },
  {
   "cell_type": "code",
   "execution_count": null,
   "id": "0c1548a0",
   "metadata": {},
   "outputs": [],
   "source": [
    "adata.layers[\"Raw_norm\"] = target_sum*adata.layers[\"Raw\"]/np.sum(adata.layers[\"Raw\"],axis=1)[:,np.newaxis]\n",
    "adata.layers[\"Raw_log\"] = np.log(adata.layers[\"Raw_norm\"]+1)"
   ]
  },
  {
   "cell_type": "markdown",
   "id": "3bcc5b07",
   "metadata": {},
   "source": [
    "Plot spatial gene expression"
   ]
  },
  {
   "cell_type": "code",
   "execution_count": null,
   "id": "12bdb193",
   "metadata": {},
   "outputs": [],
   "source": [
    "def spatial_gex(\n",
    "        genes,\n",
    "        sp_x = adata.obs[\"pxl_col_in_fullres\"], \n",
    "        sp_y = -adata.obs[\"pxl_row_in_fullres\"],\n",
    "        psize = 0.1,\n",
    "        figsize=(5,5),\n",
    "        dpi=100,\n",
    "        percentiles = [10,90],\n",
    "        fs_title = 20,\n",
    "        fs_label = 20,\n",
    "    ):\n",
    "    fig,ax = plt.subplots(2,len(genes),figsize=(figsize[0]*len(genes),figsize[1]*2),tight_layout=True)\n",
    "    for i in range(len(genes)):\n",
    "        idx_gene = adata.var.index == genes[i]\n",
    "        if sum(idx_gene) == 0: continue\n",
    "        exp = adata.layers[\"RECODE_log\"][:,idx_gene]\n",
    "        vmin,vmax = np.percentile(exp,percentiles[0]),np.percentile(exp,percentiles[1])\n",
    "        ax_ = ax[1,i]\n",
    "        ax_.scatter(sp_x, sp_y,c=exp,s=psize,marker=\"H\",vmin=vmin,vmax=vmax)\n",
    "        if i== 0:\n",
    "            ax_.set_ylabel(\"RECODE\",fontsize=fs_label)\n",
    "            ax_.tick_params(bottom=False, left=False, right=False, top=False,\n",
    "                            labelbottom=False, labelleft=False, labelright=False, labeltop=False)\n",
    "            [ax_.spines[c_].set_visible(False) for c_ in ['right','top','bottom','left']]\n",
    "        else:\n",
    "            ax_.axis('off')\n",
    "\n",
    "        \n",
    "        exp = adata.layers[\"Raw_log\"][:,idx_gene]\n",
    "        ax_ = ax[0,i]\n",
    "        ax_.scatter(sp_x, sp_y,c=exp,s=psize,marker=\"H\",vmin=vmin,vmax=vmax)\n",
    "        ax_.set_title(\"$\\it{%s}$\" % genes[i],fontsize=fs_title)\n",
    "        if i== 0:\n",
    "            ax_.set_ylabel(\"Raw\",fontsize=fs_label)\n",
    "            ax_.tick_params(bottom=False, left=False, right=False, top=False,\n",
    "                            labelbottom=False, labelleft=False, labelright=False, labeltop=False)\n",
    "            [ax_.spines[c_].set_visible(False) for c_ in ['right','top','bottom','left']]\n",
    "        else:\n",
    "            ax_.axis('off')\n",
    "\n",
    "GENES = [\"Acan\", \"Acta1\", \"Actc1\", \"Actn2\", \"Afp\", \"Agrn\", \"Ahnak\", \"Akap12\", \"Alb\", \"Aldoc\", \"Apoa1\", \"Apoa2\", \"Apoa4\", \"Apob\", \"Apoc2\", \"Apoe\",\n",
    "         \"App\", \"Cacng4\", \"Calm3\", \"Cd24a\", \"Cdkn1c\", \"Cenpb\", \"Clic6\", \"Cnmd\", \"Col11a2\", \"Col1a1\", \"Col1a2\", \"Col2a1\", \"Col3a1\", \"Col4a1\", \"Col9a1\",\n",
    "         \"Col9a2\", \"Col9a3\", \"Crabp1\", \"Crmp1\", \"Cubn\", \"Cxcl14\", \"Dcn\", \"Dcx\", \"Ddx17\", \"Dlk1\", \"Dsp\", \"Dynll2\", \"Fabp5\", \"Fabp7\", \"Fga\", \"Fgb\",\n",
    "         \"Fn1\", \"Gpx3\", \"Grb10\", \"H1f0\", \"H2afv\", \"Hapln1\", \"Hba-a2\", \"Hbb-bs\", \"Hbb-bt\", \"Hbb-y\", \"Hist1h1e\", \"Hist1h2ap\", \"Ibsp\", \"Igfbp2\", \"Igfbp4\",\n",
    "         \"Igfbp5\", \"Ina\", \"Itm2a\", \"Kctd12\", \"Kif1a\", \"Krt14\", \"Krt19\", \"Krt5\", \"Krt8\", \"Lrp2\", \"Lum\", \"Map1b\", \"Marcks\", \"Marcksl1\", \"Matn1\", \"Mest\", \n",
    "         \"mt-Co1\", \"mt-Nd1\", \"Myh8\", \"Mylpf\", \"Nefl\", \"Nefm\", \"Nnat\", \"Oc90\", \"Olfm1\", \"Plagl1\", \"Prph\", \"Ptn\", \"Ptprf\", \"Ptprs\", \"Pvalb\", \"Qk\", \"Rtn1\", \n",
    "         \"S100a11\", \"S100g\", \"Sbk1\", \"Serpinh1\", \"Slc6a15\", \"Sncg\", \"Sox11\", \"Sparc\", \"Spink1\", \"Spp2\", \"Stmn2\", \"Tac2\", \"Tceal7\", \"Thbs1\", \"Tnc\", \"Tnnc1\", \n",
    "         \"Tnnc2\", \"Tnni2\", \"Tnnt1\", \"Tnnt2\", \"Tnnt3\", \"Trp53inp2\", \"Ttn\", \"Ttr\", \"Tubb3\", \"Uchl1\", \"Vat1l\", \"Vim\", \"Wwp2\"]\n",
    "\n",
    "n_plots = 4\n",
    "for i in range(int(len(GENES)/n_plots+0.9)):\n",
    "    if (i+1)*n_plots < len(GENES):\n",
    "        genes = GENES[i*n_plots:(i+1)*n_plots]\n",
    "    else:\n",
    "        genes = GENES[i*n_plots:len(GENES)]\n",
    "    spatial_gex(genes = genes)"
   ]
  },
  {
   "cell_type": "code",
   "execution_count": null,
   "id": "e8720f00",
   "metadata": {},
   "outputs": [],
   "source": []
  }
 ],
 "metadata": {
  "kernelspec": {
   "display_name": "Python 3 (ipykernel)",
   "language": "python",
   "name": "python3"
  },
  "language_info": {
   "codemirror_mode": {
    "name": "ipython",
    "version": 3
   },
   "file_extension": ".py",
   "mimetype": "text/x-python",
   "name": "python",
   "nbconvert_exporter": "python",
   "pygments_lexer": "ipython3",
   "version": "3.9.13"
  }
 },
 "nbformat": 4,
 "nbformat_minor": 5
}
