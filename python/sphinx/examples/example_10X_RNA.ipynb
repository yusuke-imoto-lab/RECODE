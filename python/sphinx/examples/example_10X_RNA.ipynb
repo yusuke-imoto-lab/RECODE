{
 "cells": [
  {
   "cell_type": "markdown",
   "id": "directed-antigua",
   "metadata": {},
   "source": [
    "## Example: scRNA-seq data - 10X Chromium (AnnData format)"
   ]
  },
  {
   "cell_type": "markdown",
   "id": "joint-phase",
   "metadata": {},
   "source": [
    "We show an exmaple for scRNA-seq data produced by 10X Chromium. We use sample 10k Human PBMCs, 3’ v3.1, Chromium Controller (11,485 cells and 36,601 genes) in [10X Genomics Datasets](https://www.10xgenomics.com/resources/datasets). The test data is directly avairable from Feature / cell matrix HDF5 (filtered) in [here](https://www.10xgenomics.com/resources/datasets/10k-human-pbmcs-3-v3-1-chromium-controller-3-1-high) (registration required)."
   ]
  },
  {
   "cell_type": "markdown",
   "id": "expressed-overall",
   "metadata": {},
   "source": [
    "We use [scanpy](https://scanpy.readthedocs.io/en/stable/) to read/write 10X data. Import numpy, scipy, and scanpy in addlition to screcode."
   ]
  },
  {
   "cell_type": "code",
   "execution_count": 5,
   "id": "synthetic-diagram",
   "metadata": {},
   "outputs": [],
   "source": [
    "import screcode\n",
    "import numpy as np\n",
    "import scanpy as sc"
   ]
  },
  {
   "cell_type": "markdown",
   "id": "chinese-snake",
   "metadata": {},
   "source": [
    "Read in the count matrix into an [AnnData](https://anndata.readthedocs.io/en/latest/) object"
   ]
  },
  {
   "cell_type": "code",
   "execution_count": 8,
   "id": "collected-discount",
   "metadata": {},
   "outputs": [
    {
     "name": "stderr",
     "output_type": "stream",
     "text": [
      "Variable names are not unique. To make them unique, call `.var_names_make_unique`.\n",
      "Variable names are not unique. To make them unique, call `.var_names_make_unique`.\n"
     ]
    }
   ],
   "source": [
    "adata = sc.read_10x_h5('data/10k_PBMC_3p_nextgem_Chromium_Controller_filtered_feature_bc_matrix.h5')\n",
    "adata.var_names_make_unique() "
   ]
  },
  {
   "cell_type": "markdown",
   "id": "geographic-collaboration",
   "metadata": {},
   "source": [
    "Apply RECODE to the count matrix. "
   ]
  },
  {
   "cell_type": "code",
   "execution_count": 9,
   "id": "hired-skirt",
   "metadata": {},
   "outputs": [
    {
     "name": "stdout",
     "output_type": "stream",
     "text": [
      "start RECODE for scRNA-seq\n",
      "end RECODE for scRNA-seq\n",
      "log: {'seq_target': 'RNA', '#significant genes': 15789, '#non-significant genes': 9322, '#silent genes': 11490, 'ell': 165, 'Elapsed_time': '193.065[sec]'}\n"
     ]
    }
   ],
   "source": [
    "recode = screcode.RECODE()\n",
    "adata = recode.fit_transform(adata)"
   ]
  },
  {
   "cell_type": "code",
   "execution_count": null,
   "id": "immune-slope",
   "metadata": {},
   "outputs": [],
   "source": []
  },
  {
   "cell_type": "code",
   "execution_count": null,
   "id": "tracked-indonesian",
   "metadata": {},
   "outputs": [],
   "source": []
  },
  {
   "cell_type": "code",
   "execution_count": null,
   "id": "continental-germany",
   "metadata": {},
   "outputs": [],
   "source": []
  },
  {
   "cell_type": "code",
   "execution_count": null,
   "id": "official-spice",
   "metadata": {},
   "outputs": [],
   "source": []
  }
 ],
 "metadata": {
  "kernelspec": {
   "display_name": "Python 3",
   "language": "python",
   "name": "python3"
  },
  "language_info": {
   "codemirror_mode": {
    "name": "ipython",
    "version": 3
   },
   "file_extension": ".py",
   "mimetype": "text/x-python",
   "name": "python",
   "nbconvert_exporter": "python",
   "pygments_lexer": "ipython3",
   "version": "3.8.5"
  }
 },
 "nbformat": 4,
 "nbformat_minor": 5
}
