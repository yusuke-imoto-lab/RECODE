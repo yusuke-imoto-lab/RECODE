{
 "cells": [
  {
   "cell_type": "code",
   "execution_count": 1,
   "metadata": {},
   "outputs": [],
   "source": [
    "import screcode\n",
    "import numpy as np\n",
    "import scanpy as sc"
   ]
  },
  {
   "cell_type": "code",
   "execution_count": 2,
   "metadata": {},
   "outputs": [
    {
     "name": "stderr",
     "output_type": "stream",
     "text": [
      "C:\\Users\\expou\\anaconda3\\lib\\site-packages\\anndata\\_core\\anndata.py:1830: UserWarning: Variable names are not unique. To make them unique, call `.var_names_make_unique`.\n",
      "  utils.warn_names_duplicates(\"var\")\n"
     ]
    }
   ],
   "source": [
    "input_filename = 'data/500_PBMC_3p_LT_Chromium_Controller_filtered_feature_bc_matrix.h5'\n",
    "adata = sc.read_10x_h5(input_filename)\n",
    "adata.var_names_make_unique()"
   ]
  },
  {
   "cell_type": "code",
   "execution_count": 3,
   "metadata": {},
   "outputs": [
    {
     "name": "stdout",
     "output_type": "stream",
     "text": [
      "start RECODE for scRNA-seq\n",
      "end RECODE for scRNA-seq\n",
      "log: {'seq_target': 'RNA', '#significant genes': 11628, '#non-significant genes': 8189, '#silent genes': 16784, 'ell': 34, 'Elapsed_time': '14.0495[sec]'}\n"
     ]
    }
   ],
   "source": [
    "recode = screcode.RECODE()\n",
    "adata = recode.fit_transform(adata)"
   ]
  },
  {
   "cell_type": "code",
   "execution_count": 5,
   "metadata": {},
   "outputs": [
    {
     "ename": "NameError",
     "evalue": "name 'now' is not defined",
     "output_type": "error",
     "traceback": [
      "\u001b[1;31m---------------------------------------------------------------------------\u001b[0m",
      "\u001b[1;31mNameError\u001b[0m                                 Traceback (most recent call last)",
      "\u001b[1;32m<ipython-input-5-52932450373d>\u001b[0m in \u001b[0;36m<module>\u001b[1;34m\u001b[0m\n\u001b[0;32m     41\u001b[0m \u001b[0mgs\u001b[0m \u001b[1;33m=\u001b[0m \u001b[0mGridSpecFromSubplotSpec\u001b[0m\u001b[1;33m(\u001b[0m\u001b[0mnrows\u001b[0m\u001b[1;33m=\u001b[0m\u001b[1;36m1\u001b[0m\u001b[1;33m,\u001b[0m\u001b[0mncols\u001b[0m\u001b[1;33m=\u001b[0m\u001b[1;36m1\u001b[0m\u001b[1;33m,\u001b[0m\u001b[0msubplot_spec\u001b[0m\u001b[1;33m=\u001b[0m\u001b[0mgs_master\u001b[0m\u001b[1;33m[\u001b[0m\u001b[1;36m8\u001b[0m\u001b[1;33m,\u001b[0m\u001b[1;36m50\u001b[0m\u001b[1;33m:\u001b[0m\u001b[1;36m100\u001b[0m\u001b[1;33m]\u001b[0m\u001b[1;33m)\u001b[0m\u001b[1;33m\u001b[0m\u001b[1;33m\u001b[0m\u001b[0m\n\u001b[0;32m     42\u001b[0m \u001b[0max\u001b[0m \u001b[1;33m=\u001b[0m \u001b[0mfig\u001b[0m\u001b[1;33m.\u001b[0m\u001b[0madd_subplot\u001b[0m\u001b[1;33m(\u001b[0m\u001b[0mgs\u001b[0m\u001b[1;33m[\u001b[0m\u001b[1;36m0\u001b[0m\u001b[1;33m,\u001b[0m\u001b[1;36m0\u001b[0m\u001b[1;33m]\u001b[0m\u001b[1;33m)\u001b[0m\u001b[1;33m\u001b[0m\u001b[1;33m\u001b[0m\u001b[0m\n\u001b[1;32m---> 43\u001b[1;33m \u001b[0max\u001b[0m\u001b[1;33m.\u001b[0m\u001b[0mtext\u001b[0m\u001b[1;33m(\u001b[0m\u001b[1;36m1\u001b[0m\u001b[1;33m,\u001b[0m\u001b[1;36m0\u001b[0m\u001b[1;33m,\u001b[0m\u001b[1;34m'Execution Date: %d-%02d-%02d %02d:%02d:%02d'\u001b[0m \u001b[1;33m%\u001b[0m \u001b[1;33m(\u001b[0m\u001b[0mnow\u001b[0m\u001b[1;33m.\u001b[0m\u001b[0myear\u001b[0m\u001b[1;33m,\u001b[0m\u001b[0mnow\u001b[0m\u001b[1;33m.\u001b[0m\u001b[0mmonth\u001b[0m\u001b[1;33m,\u001b[0m\u001b[0mnow\u001b[0m\u001b[1;33m.\u001b[0m\u001b[0mday\u001b[0m\u001b[1;33m,\u001b[0m\u001b[0mnow\u001b[0m\u001b[1;33m.\u001b[0m\u001b[0mhour\u001b[0m\u001b[1;33m,\u001b[0m\u001b[0mnow\u001b[0m\u001b[1;33m.\u001b[0m\u001b[0mminute\u001b[0m\u001b[1;33m,\u001b[0m\u001b[0mnow\u001b[0m\u001b[1;33m.\u001b[0m\u001b[0msecond\u001b[0m\u001b[1;33m)\u001b[0m\u001b[1;33m,\u001b[0m\u001b[0mfontsize\u001b[0m\u001b[1;33m=\u001b[0m\u001b[1;36m12\u001b[0m\u001b[1;33m,\u001b[0m\u001b[0mha\u001b[0m\u001b[1;33m=\u001b[0m\u001b[1;34m'right'\u001b[0m\u001b[1;33m)\u001b[0m\u001b[1;33m\u001b[0m\u001b[1;33m\u001b[0m\u001b[0m\n\u001b[0m\u001b[0;32m     44\u001b[0m \u001b[0max\u001b[0m\u001b[1;33m.\u001b[0m\u001b[0maxis\u001b[0m\u001b[1;33m(\u001b[0m\u001b[1;34m\"off\"\u001b[0m\u001b[1;33m)\u001b[0m\u001b[1;33m\u001b[0m\u001b[1;33m\u001b[0m\u001b[0m\n\u001b[0;32m     45\u001b[0m \u001b[0mgs\u001b[0m \u001b[1;33m=\u001b[0m \u001b[0mGridSpecFromSubplotSpec\u001b[0m\u001b[1;33m(\u001b[0m\u001b[0mnrows\u001b[0m\u001b[1;33m=\u001b[0m\u001b[1;36m1\u001b[0m\u001b[1;33m,\u001b[0m\u001b[0mncols\u001b[0m\u001b[1;33m=\u001b[0m\u001b[1;36m1\u001b[0m\u001b[1;33m,\u001b[0m\u001b[0msubplot_spec\u001b[0m\u001b[1;33m=\u001b[0m\u001b[0mgs_master\u001b[0m\u001b[1;33m[\u001b[0m\u001b[1;36m16\u001b[0m\u001b[1;33m:\u001b[0m\u001b[1;36m26\u001b[0m\u001b[1;33m,\u001b[0m\u001b[1;36m2\u001b[0m\u001b[1;33m:\u001b[0m\u001b[1;36m30\u001b[0m\u001b[1;33m]\u001b[0m\u001b[1;33m)\u001b[0m\u001b[1;33m\u001b[0m\u001b[1;33m\u001b[0m\u001b[0m\n",
      "\u001b[1;31mNameError\u001b[0m: name 'now' is not defined"
     ]
    },
    {
     "data": {
      "image/png": "[encoded data removed]",
      "text/plain": [
       "<Figure size 595.44x841.68 with 3 Axes>"
      ]
     },
     "metadata": {
      "needs_background": "light"
     },
     "output_type": "display_data"
    }
   ],
   "source": [
    "import matplotlib.pyplot as plt\n",
    "from matplotlib.gridspec import GridSpec, GridSpecFromSubplotSpec\n",
    "import datetime\n",
    "import seaborn as sns\n",
    "import scipy\n",
    "\n",
    "figsize=(8.27,11.69)\n",
    "ps = 2\n",
    "save = False\n",
    "save_filename = 'report'\n",
    "save_format = 'png'\n",
    "dpi = None\n",
    "show = True\n",
    "fs_label = 14\n",
    "\n",
    "X_scaled =(recode.X_temp.T/np.sum(recode.X_temp,axis=1)).T\n",
    "X_norm = recode._noise_variance_stabilizing_normalization(recode.X_temp)\n",
    "norm_var = np.var(X_norm,axis=0,ddof=1)\n",
    "size_factor = np.median(np.sum(recode.X_trans,axis=1))\n",
    "X_ss_log = np.log2(size_factor*(recode.X_trans[:,recode.idx_nonsilent].T/np.sum(recode.X_trans,axis=1)).T+1)\n",
    "X_RECODE_ss_log = np.log2(size_factor*(recode.X_RECODE[:,recode.idx_nonsilent].T/np.sum(recode.X_RECODE,axis=1)).T+1)\n",
    "plot_EV = recode.recode_.PCA_Ev[recode.recode_.PCA_Ev>0]\n",
    "n_EV = len(plot_EV)\n",
    "plot_EV_mod = np.zeros(n_EV)\n",
    "plot_EV_mod[:recode.recode_.ell] = recode.recode_.PCA_Ev_NRM[:recode.recode_.ell]\n",
    "#\n",
    "fig = plt.figure(figsize=(8.27,11.69))\n",
    "plt.rcParams[\"xtick.direction\"] = \"in\"\n",
    "plt.rcParams[\"ytick.direction\"] = \"in\"\n",
    "plt.subplots_adjust(left=0.05, right=0.97, bottom=0.01, top=0.98)\n",
    "gs_master = GridSpec(nrows=200, ncols=100,wspace=0,hspace=0)\n",
    "gs = GridSpecFromSubplotSpec(nrows=1,ncols=1,subplot_spec=gs_master[8,0:50])\n",
    "ax = fig.add_subplot(gs[0,0])\n",
    "ax.text(0,0,'RECODE report',fontsize=25,fontweight='bold')\n",
    "ax.axis(\"off\")\n",
    "gs = GridSpecFromSubplotSpec(nrows=1,ncols=1,subplot_spec=gs_master[12:28,0:100])\n",
    "ax = fig.add_subplot(gs[0,0])\n",
    "ax.patch.set_facecolor('gainsboro')\n",
    "ax.tick_params(labelbottom=False,labelleft=False,labelright=False,labeltop=False)         \n",
    "ax.tick_params(bottom=False,left=False,right=False,top=False)\n",
    "gs = GridSpecFromSubplotSpec(nrows=1,ncols=1,subplot_spec=gs_master[8,50:100])\n",
    "ax = fig.add_subplot(gs[0,0])\n",
    "ax.text(1,0,'Date: %d-%02d-%02d %02d:%02d:%02d' % (now.year,now.month,now.day,now.hour,now.minute,now.second),fontsize=12,ha='right')\n",
    "ax.axis(\"off\")\n",
    "gs = GridSpecFromSubplotSpec(nrows=1,ncols=1,subplot_spec=gs_master[16:26,2:30])\n",
    "ax = fig.add_subplot(gs[0,0])\n",
    "ax.text(0,1,'Method: %s' % recode.log_['seq_target'],fontsize=12)\n",
    "ax.text(0,0.5,'nCells: %s' % recode.X_fit.shape[0],fontsize=12)\n",
    "ax.text(0,0.0,'n%ss: %s' % (recode.Unit,recode.d_all),fontsize=12)\n",
    "# ax.text(0,0.0,'Method: %s' % recode.log_['seq_target'],fontsize=12)\n",
    "ax.axis(\"off\")\n",
    "gs = GridSpecFromSubplotSpec(nrows=1,ncols=1,subplot_spec=gs_master[16:26,25:64])\n",
    "ax = fig.add_subplot(gs[0,0])\n",
    "ax.text(0,1,'#significant genes: %s' % recode.log_['#significant genes'],fontsize=12)\n",
    "ax.text(0,0.5,'#non-significant genes: %s' % recode.log_['#non-significant genes'],fontsize=12)\n",
    "ax.text(0,0.0,'#silent genes: %s' % recode.log_['#silent genes'],fontsize=12)\n",
    "ax.axis(\"off\")\n",
    "gs = GridSpecFromSubplotSpec(nrows=1,ncols=1,subplot_spec=gs_master[16:26,64:100])\n",
    "ax = fig.add_subplot(gs[0,0])\n",
    "ax.text(0,1.0,r'Essential dimension $\\ell$: %s' % recode.log_['ell'],fontsize=12)\n",
    "ax.text(0,0.5,'Elapsed_time: %s' % recode.log_['Elapsed_time'],fontsize=12)\n",
    "ax.axis(\"off\")\n",
    "#\n",
    "gs = GridSpecFromSubplotSpec(nrows=1,ncols=1,subplot_spec=gs_master[34,0])\n",
    "ax = fig.add_subplot(gs[0,0])\n",
    "ax.text(0,0.,'Applicability',fontsize=16,fontweight='bold')\n",
    "ax.axis(\"off\")\n",
    "#\n",
    "gs = GridSpecFromSubplotSpec(nrows=1,ncols=2,width_ratios=[4, 1],subplot_spec=gs_master[37:85,10:100],wspace=0.)\n",
    "ax0 = fig.add_subplot(gs[0,0])\n",
    "x,y = np.mean(X_scaled,axis=0),norm_var\n",
    "idx_nonsig, idx_sig = y <= 1, y > 1\n",
    "ax0.scatter(x[idx_sig],y[idx_sig],color='b',s=ps,label='significant %s' % recode.unit,zorder=2)\n",
    "ax0.scatter(x[idx_nonsig],y[idx_nonsig],color='r',s=ps,label='non-significant %s' % recode.unit,zorder=3)\n",
    "ax0.axhline(1,color='gray',ls='--',lw=2,zorder=1)\n",
    "ax0.set_xscale('log')\n",
    "ax0.set_yscale('log')\n",
    "ax0.set_xlabel('Mean of scaled data',fontsize=14)\n",
    "ax0.set_ylabel('NVSN variance',fontsize=14)\n",
    "ax0.legend(loc='upper left',borderaxespad=0,fontsize=14,markerscale=5,handletextpad=0.).get_frame().set_alpha(0)\n",
    "ylim = ax0.set_ylim()\n",
    "ax1 = fig.add_subplot(gs[0,1])\n",
    "sns.kdeplot(y=np.log10(norm_var[norm_var>0]), color='k',shade=True,ax=ax1)\n",
    "ax1.axhline(0,c='gray',ls='--',lw=2,zorder=1)\n",
    "ax1.axvline(0,c='k',ls='-',lw=1,zorder=1)\n",
    "ax1.set_ylim(np.log10(ax0.set_ylim()))\n",
    "ax1.tick_params(labelbottom=True,labelleft=False,bottom=True)\n",
    "ax1.set_xlabel('Density',fontsize=14)\n",
    "ax1.spines['right'].set_visible(False)\n",
    "ax1.spines['top'].set_visible(False)\n",
    "ax1.tick_params(left=False)\n",
    "ax1.patch.set_alpha(0)\n",
    "x = np.linspace(ax1.set_ylim()[0],ax1.set_ylim()[1],1000)\n",
    "dens = scipy.stats.kde.gaussian_kde(np.log10(norm_var[norm_var>0]))(x)\n",
    "peak_val = x[np.argmax(dens)]\n",
    "rate_low_var = np.sum(norm_var[norm_var>0] < 0.90)/len(norm_var[norm_var>0])\n",
    "applicability = 'Unknown'\n",
    "backcolor = 'w'\n",
    "if (rate_low_var < 0.01) and (np.abs(peak_val)<0.1):\n",
    "    applicability = 'Class A (strongly applicable)'\n",
    "    backcolor = 'lightgreen'\n",
    "elif rate_low_var < 0.01:\n",
    "    applicability = 'Class A (weakly applicable)'\n",
    "    backcolor = 'yellow'\n",
    "else:\n",
    "    applicability = 'Class C (inapplicabile)'\n",
    "    backcolor = 'tomato'\n",
    "ax0.text(0.99, 0.975,applicability,va='top',ha='right', transform=ax0.transAxes,fontsize=14,backgroundcolor=backcolor)\n",
    "#\n",
    "gs = GridSpecFromSubplotSpec(nrows=1,ncols=1,subplot_spec=gs_master[100,0])\n",
    "ax = fig.add_subplot(gs[0,0])\n",
    "ax.text(0,0.,'PC variance modification/elimination',fontsize=16,fontweight='bold')\n",
    "ax.axis(\"off\")\n",
    "#\n",
    "gs = GridSpecFromSubplotSpec(nrows=1,ncols=1,subplot_spec=gs_master[105:145,10:80])\n",
    "ps = 10\n",
    "n_plot = min(n_EV,1000)\n",
    "ax = fig.add_subplot(gs[0,0])\n",
    "plt.rcParams['xtick.direction'] = 'in'\n",
    "plt.rcParams['ytick.direction'] = 'in'\n",
    "ax.scatter(np.arange(n_plot)+1,plot_EV[:n_plot],color='lightblue',label='Original',marker='^',s=ps,zorder=1)\n",
    "ax.scatter(np.arange(recode.recode_.ell)+1,plot_EV_mod[:recode.recode_.ell],color='green',label='PC varaince modification',s=ps,zorder=2)\n",
    "ax.scatter(np.arange(recode.recode_.ell,n_plot)+1,plot_EV_mod[recode.recode_.ell:n_plot],color='orange',label='PC varaince elimination',s=ps,zorder=2)\n",
    "ax.axhline(0,color='gray',ls='--',zorder=-10)\n",
    "ax.axvline(recode.recode_.ell,color='gray',ls='--')\n",
    "ax.text(recode.recode_.ell*1.1,0.3,'$\\ell$=%d' % recode.recode_.ell,color='k',fontsize=16,ha='left')\n",
    "ax.set_xlabel('PC',fontsize=fs_label)\n",
    "ax.set_ylabel('PC variance (eigenvalue)',fontsize=fs_label)\n",
    "ax.set_yscale('symlog')\n",
    "ax.set_xlim([-5,n_plot+5])\n",
    "ax.set_ylim([-0.5,max(plot_EV)*1.5])\n",
    "ax.legend(loc='upper right',borderaxespad=0,fontsize=14,markerscale=2,handletextpad=0.).get_frame().set_alpha(0)\n",
    "plt.gca().spines['right'].set_visible(False)\n",
    "plt.gca().spines['top'].set_visible(False)\n",
    "#\n",
    "gs = GridSpecFromSubplotSpec(nrows=1,ncols=1,subplot_spec=gs_master[155,0])\n",
    "ax = fig.add_subplot(gs[0,0])\n",
    "ax.text(0,0.,'Mean-variance plot (log-normalized data)',fontsize=16,fontweight='bold')\n",
    "ax.axis(\"off\")\n",
    "#\n",
    "titles=('Original','RECODE')\n",
    "ps = 2\n",
    "fs_title = 14\n",
    "gs = GridSpecFromSubplotSpec(nrows=1,ncols=2,subplot_spec=gs_master[163:200,5:100])\n",
    "ax0 = fig.add_subplot(gs[0,0])\n",
    "plt.rcParams['xtick.direction'] = 'in'\n",
    "plt.rcParams['ytick.direction'] = 'in'\n",
    "x,y = np.mean(X_ss_log,axis=0),np.var(X_ss_log,axis=0,ddof=1)\n",
    "ax0.scatter(x,y,color='b',s=ps,label='significant %s' % recode.unit,zorder=2)\n",
    "ax0.axhline(0,color='gray',ls='--',lw=2,zorder=1)\n",
    "ax0.set_xlabel('Mean',fontsize=fs_label)\n",
    "ax0.set_ylabel('Variance',fontsize=fs_label)\n",
    "ax0.set_title(titles[0],fontsize=fs_title)\n",
    "plt.gca().spines['right'].set_visible(False)\n",
    "plt.gca().spines['top'].set_visible(False)\n",
    "ax1 = fig.add_subplot(gs[0,1])\n",
    "x,y = np.mean(X_RECODE_ss_log,axis=0),np.var(X_RECODE_ss_log,axis=0,ddof=1)\n",
    "ax1.scatter(x,y,color='b',s=ps,label='significant %s' % recode.unit,zorder=2)\n",
    "ax1.set_ylim(ax0.set_ylim())\n",
    "ax1.axhline(0,color='gray',ls='--',lw=2,zorder=1)\n",
    "ax1.set_xlabel('Mean',fontsize=fs_label)\n",
    "ax1.set_ylabel('Variance',fontsize=fs_label)\n",
    "ax1.set_title(titles[1],fontsize=fs_title)\n",
    "plt.gca().spines['right'].set_visible(False)\n",
    "plt.gca().spines['top'].set_visible(False)"
   ]
  }
 ],
 "metadata": {
  "kernelspec": {
   "display_name": "Python 3",
   "language": "python",
   "name": "python3"
  },
  "language_info": {
   "codemirror_mode": {
    "name": "ipython",
    "version": 3
   },
   "file_extension": ".py",
   "mimetype": "text/x-python",
   "name": "python",
   "nbconvert_exporter": "python",
   "pygments_lexer": "ipython3",
   "version": "3.8.5"
  }
 },
 "nbformat": 4,
 "nbformat_minor": 4
}
